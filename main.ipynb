{
 "cells": [
  {
   "cell_type": "code",
   "execution_count": 1,
   "metadata": {},
   "outputs": [
    {
     "name": "stdout",
     "output_type": "stream",
     "text": [
      "Requirement already satisfied: torch==2.2.0 in /home/ali/miniconda3/envs/character-level-language-modeling-env/lib/python3.8/site-packages (2.2.0)\n",
      "Collecting numpy==1.24.4\n",
      "  Using cached numpy-1.24.4-cp38-cp38-manylinux_2_17_x86_64.manylinux2014_x86_64.whl.metadata (5.6 kB)\n",
      "Collecting matplotlib==3.7.4\n",
      "  Using cached matplotlib-3.7.4-cp38-cp38-manylinux_2_12_x86_64.manylinux2010_x86_64.whl.metadata (5.7 kB)\n",
      "Requirement already satisfied: filelock in /home/ali/miniconda3/envs/character-level-language-modeling-env/lib/python3.8/site-packages (from torch==2.2.0) (3.13.1)\n",
      "Requirement already satisfied: typing-extensions>=4.8.0 in /home/ali/miniconda3/envs/character-level-language-modeling-env/lib/python3.8/site-packages (from torch==2.2.0) (4.10.0)\n",
      "Requirement already satisfied: sympy in /home/ali/miniconda3/envs/character-level-language-modeling-env/lib/python3.8/site-packages (from torch==2.2.0) (1.12)\n",
      "Requirement already satisfied: networkx in /home/ali/miniconda3/envs/character-level-language-modeling-env/lib/python3.8/site-packages (from torch==2.2.0) (3.1)\n",
      "Requirement already satisfied: jinja2 in /home/ali/miniconda3/envs/character-level-language-modeling-env/lib/python3.8/site-packages (from torch==2.2.0) (3.1.3)\n",
      "Requirement already satisfied: fsspec in /home/ali/miniconda3/envs/character-level-language-modeling-env/lib/python3.8/site-packages (from torch==2.2.0) (2024.2.0)\n",
      "Requirement already satisfied: nvidia-cuda-nvrtc-cu12==12.1.105 in /home/ali/miniconda3/envs/character-level-language-modeling-env/lib/python3.8/site-packages (from torch==2.2.0) (12.1.105)\n",
      "Requirement already satisfied: nvidia-cuda-runtime-cu12==12.1.105 in /home/ali/miniconda3/envs/character-level-language-modeling-env/lib/python3.8/site-packages (from torch==2.2.0) (12.1.105)\n",
      "Requirement already satisfied: nvidia-cuda-cupti-cu12==12.1.105 in /home/ali/miniconda3/envs/character-level-language-modeling-env/lib/python3.8/site-packages (from torch==2.2.0) (12.1.105)\n",
      "Requirement already satisfied: nvidia-cudnn-cu12==8.9.2.26 in /home/ali/miniconda3/envs/character-level-language-modeling-env/lib/python3.8/site-packages (from torch==2.2.0) (8.9.2.26)\n",
      "Requirement already satisfied: nvidia-cublas-cu12==12.1.3.1 in /home/ali/miniconda3/envs/character-level-language-modeling-env/lib/python3.8/site-packages (from torch==2.2.0) (12.1.3.1)\n",
      "Requirement already satisfied: nvidia-cufft-cu12==11.0.2.54 in /home/ali/miniconda3/envs/character-level-language-modeling-env/lib/python3.8/site-packages (from torch==2.2.0) (11.0.2.54)\n",
      "Requirement already satisfied: nvidia-curand-cu12==10.3.2.106 in /home/ali/miniconda3/envs/character-level-language-modeling-env/lib/python3.8/site-packages (from torch==2.2.0) (10.3.2.106)\n",
      "Requirement already satisfied: nvidia-cusolver-cu12==11.4.5.107 in /home/ali/miniconda3/envs/character-level-language-modeling-env/lib/python3.8/site-packages (from torch==2.2.0) (11.4.5.107)\n",
      "Requirement already satisfied: nvidia-cusparse-cu12==12.1.0.106 in /home/ali/miniconda3/envs/character-level-language-modeling-env/lib/python3.8/site-packages (from torch==2.2.0) (12.1.0.106)\n",
      "Requirement already satisfied: nvidia-nccl-cu12==2.19.3 in /home/ali/miniconda3/envs/character-level-language-modeling-env/lib/python3.8/site-packages (from torch==2.2.0) (2.19.3)\n",
      "Requirement already satisfied: nvidia-nvtx-cu12==12.1.105 in /home/ali/miniconda3/envs/character-level-language-modeling-env/lib/python3.8/site-packages (from torch==2.2.0) (12.1.105)\n",
      "Requirement already satisfied: triton==2.2.0 in /home/ali/miniconda3/envs/character-level-language-modeling-env/lib/python3.8/site-packages (from torch==2.2.0) (2.2.0)\n",
      "Collecting contourpy>=1.0.1 (from matplotlib==3.7.4)\n",
      "  Using cached contourpy-1.1.1-cp38-cp38-manylinux_2_17_x86_64.manylinux2014_x86_64.whl.metadata (5.9 kB)\n",
      "Collecting cycler>=0.10 (from matplotlib==3.7.4)\n",
      "  Using cached cycler-0.12.1-py3-none-any.whl.metadata (3.8 kB)\n",
      "Collecting fonttools>=4.22.0 (from matplotlib==3.7.4)\n",
      "  Downloading fonttools-4.49.0-cp38-cp38-manylinux_2_17_x86_64.manylinux2014_x86_64.whl.metadata (159 kB)\n",
      "\u001b[2K     \u001b[38;2;114;156;31m━━━━━━━━━━━━━━━━━━━━━━━━━━━━━━━━━━━━━\u001b[0m \u001b[32m159.1/159.1 kB\u001b[0m \u001b[31m305.9 kB/s\u001b[0m eta \u001b[36m0:00:00\u001b[0m1m299.8 kB/s\u001b[0m eta \u001b[36m0:00:01\u001b[0m\n",
      "\u001b[?25hCollecting kiwisolver>=1.0.1 (from matplotlib==3.7.4)\n",
      "  Using cached kiwisolver-1.4.5-cp38-cp38-manylinux_2_5_x86_64.manylinux1_x86_64.whl.metadata (6.4 kB)\n",
      "Requirement already satisfied: packaging>=20.0 in /home/ali/miniconda3/envs/character-level-language-modeling-env/lib/python3.8/site-packages (from matplotlib==3.7.4) (23.2)\n",
      "Collecting pillow>=6.2.0 (from matplotlib==3.7.4)\n",
      "  Using cached pillow-10.2.0-cp38-cp38-manylinux_2_28_x86_64.whl.metadata (9.7 kB)\n",
      "Collecting pyparsing>=2.3.1 (from matplotlib==3.7.4)\n",
      "  Using cached pyparsing-3.1.1-py3-none-any.whl.metadata (5.1 kB)\n",
      "Requirement already satisfied: python-dateutil>=2.7 in /home/ali/miniconda3/envs/character-level-language-modeling-env/lib/python3.8/site-packages (from matplotlib==3.7.4) (2.8.2)\n",
      "Collecting importlib-resources>=3.2.0 (from matplotlib==3.7.4)\n",
      "  Downloading importlib_resources-6.1.2-py3-none-any.whl.metadata (3.9 kB)\n",
      "Requirement already satisfied: nvidia-nvjitlink-cu12 in /home/ali/miniconda3/envs/character-level-language-modeling-env/lib/python3.8/site-packages (from nvidia-cusolver-cu12==11.4.5.107->torch==2.2.0) (12.3.101)\n",
      "Requirement already satisfied: zipp>=3.1.0 in /home/ali/miniconda3/envs/character-level-language-modeling-env/lib/python3.8/site-packages (from importlib-resources>=3.2.0->matplotlib==3.7.4) (3.17.0)\n",
      "Requirement already satisfied: six>=1.5 in /home/ali/miniconda3/envs/character-level-language-modeling-env/lib/python3.8/site-packages (from python-dateutil>=2.7->matplotlib==3.7.4) (1.16.0)\n",
      "Requirement already satisfied: MarkupSafe>=2.0 in /home/ali/miniconda3/envs/character-level-language-modeling-env/lib/python3.8/site-packages (from jinja2->torch==2.2.0) (2.1.5)\n",
      "Requirement already satisfied: mpmath>=0.19 in /home/ali/miniconda3/envs/character-level-language-modeling-env/lib/python3.8/site-packages (from sympy->torch==2.2.0) (1.3.0)\n",
      "Using cached numpy-1.24.4-cp38-cp38-manylinux_2_17_x86_64.manylinux2014_x86_64.whl (17.3 MB)\n",
      "Using cached matplotlib-3.7.4-cp38-cp38-manylinux_2_12_x86_64.manylinux2010_x86_64.whl (9.2 MB)\n",
      "Using cached contourpy-1.1.1-cp38-cp38-manylinux_2_17_x86_64.manylinux2014_x86_64.whl (301 kB)\n",
      "Using cached cycler-0.12.1-py3-none-any.whl (8.3 kB)\n",
      "Downloading fonttools-4.49.0-cp38-cp38-manylinux_2_17_x86_64.manylinux2014_x86_64.whl (4.7 MB)\n",
      "\u001b[2K   \u001b[38;2;114;156;31m━━━━━━━━━━━━━━━━━━━━━━━━━━━━━━━━━━━━━━━━\u001b[0m \u001b[32m4.7/4.7 MB\u001b[0m \u001b[31m1.1 MB/s\u001b[0m eta \u001b[36m0:00:00\u001b[0mm eta \u001b[36m0:00:01\u001b[0m0:01\u001b[0m:01\u001b[0m0m\n",
      "\u001b[?25hDownloading importlib_resources-6.1.2-py3-none-any.whl (34 kB)\n",
      "Using cached kiwisolver-1.4.5-cp38-cp38-manylinux_2_5_x86_64.manylinux1_x86_64.whl (1.2 MB)\n",
      "Using cached pillow-10.2.0-cp38-cp38-manylinux_2_28_x86_64.whl (4.5 MB)\n",
      "Using cached pyparsing-3.1.1-py3-none-any.whl (103 kB)\n",
      "Installing collected packages: pyparsing, pillow, numpy, kiwisolver, importlib-resources, fonttools, cycler, contourpy, matplotlib\n",
      "Successfully installed contourpy-1.1.1 cycler-0.12.1 fonttools-4.49.0 importlib-resources-6.1.2 kiwisolver-1.4.5 matplotlib-3.7.4 numpy-1.24.4 pillow-10.2.0 pyparsing-3.1.1\n"
     ]
    }
   ],
   "source": [
    "!pip install torch==2.2.0 numpy==1.24.4 matplotlib==3.7.4"
   ]
  },
  {
   "cell_type": "markdown",
   "metadata": {},
   "source": [
    "## Installing the data set"
   ]
  },
  {
   "cell_type": "markdown",
   "metadata": {},
   "source": [
    "If you are a MacOS or Linux user, you can install the dataset by running the following commmand in your terminal:\n",
    "\n",
    "```bash\n",
    "curl -O https://www.gutenberg.org/files/1268/1268-0.txt\n",
    "```\n",
    "\n",
    "or uncomment the following cell and run it."
   ]
  },
  {
   "cell_type": "markdown",
   "metadata": {},
   "source": [
    "## Preprocessing the data"
   ]
  },
  {
   "cell_type": "code",
   "execution_count": 2,
   "metadata": {},
   "outputs": [
    {
     "name": "stdout",
     "output_type": "stream",
     "text": [
      "Total Length: 1,130,711\n",
      "Unique Characters: 85\n"
     ]
    }
   ],
   "source": [
    "import numpy as np\n",
    "import os\n",
    "\n",
    "with open(os.path.join('data', '1268-0.txt'), 'r', encoding=\"utf8\") as fp:\n",
    "    text = fp.read()\n",
    "\n",
    "start_idx = text.find('THE MYSTERIOUS ISLAND')\n",
    "end_idx = text.find('End of the Project Gutenberg')\n",
    "\n",
    "text = text[start_idx:end_idx]\n",
    "\n",
    "char_set = set(text)\n",
    "\n",
    "\n",
    "print(f'Total Length: {len(text):,}')\n",
    "print(f'Unique Characters: {len(char_set)}')"
   ]
  },
  {
   "cell_type": "code",
   "execution_count": 3,
   "metadata": {},
   "outputs": [
    {
     "name": "stdout",
     "output_type": "stream",
     "text": [
      "Text encoded shape: (1130711,)\n",
      "THE MYSTERIOUS  == Encoding ==> [48 36 33  1 41 53 47 48 33 46 37 43 49 47  1]\n",
      "[37 47 40 29 42 32] == Reversed ==> ISLAND\n"
     ]
    }
   ],
   "source": [
    "chars_sorted = sorted(char_set)\n",
    "\n",
    "char2int = {ch: i for i, ch in enumerate(chars_sorted)}\n",
    "char_array = np.array(chars_sorted)\n",
    "\n",
    "text_encoded = np.array([char2int[char] for char in text], dtype=np.int32)\n",
    "\n",
    "print(f'Text encoded shape: {text_encoded.shape}')\n",
    "print(f'{text[:15]} == Encoding ==> {text_encoded[:15]}')\n",
    "\n",
    "print(f'{text_encoded[15:21]} == Reversed ==> {text[15:21]}')"
   ]
  },
  {
   "cell_type": "code",
   "execution_count": 4,
   "metadata": {},
   "outputs": [
    {
     "name": "stderr",
     "output_type": "stream",
     "text": [
      "/tmp/ipykernel_7714/2909004157.py:23: UserWarning: Creating a tensor from a list of numpy.ndarrays is extremely slow. Please consider converting the list to a single numpy.ndarray with numpy.array() before converting to a tensor. (Triggered internally at ../torch/csrc/utils/tensor_new.cpp:275.)\n",
      "  seq_dataset = TextDataset(torch.tensor(text_chunks))\n"
     ]
    }
   ],
   "source": [
    "import torch\n",
    "from torch.utils.data import Dataset\n",
    "\n",
    "seq_length = 40\n",
    "chunk_size = seq_length + 1\n",
    "\n",
    "text_chunks = [text_encoded[i:i+chunk_size]\n",
    "               for i in range(len(text_encoded) - chunk_size)]\n",
    "\n",
    "\n",
    "class TextDataset(Dataset):\n",
    "    def __init__(self, text_chunks):\n",
    "        self.text_chunks = text_chunks\n",
    "\n",
    "    def __len__(self):\n",
    "        return len(self.text_chunks)\n",
    "\n",
    "    def __getitem__(self, idx):\n",
    "        text_chunk = self.text_chunks[idx]\n",
    "        return text_chunk[:-1].long(), text_chunk[1:].long()\n",
    "\n",
    "\n",
    "seq_dataset = TextDataset(torch.tensor(text_chunks))"
   ]
  },
  {
   "cell_type": "code",
   "execution_count": 5,
   "metadata": {},
   "outputs": [],
   "source": [
    "from torch.utils.data import DataLoader\n",
    "\n",
    "batch_size = 64\n",
    "\n",
    "torch.manual_seed(1)\n",
    "\n",
    "seq_dl = DataLoader(seq_dataset, batch_size=batch_size,\n",
    "                    shuffle=True, drop_last=True)"
   ]
  },
  {
   "cell_type": "code",
   "execution_count": 6,
   "metadata": {},
   "outputs": [],
   "source": [
    "device = 'cuda:0' if torch.cuda.is_available() else 'cpu'"
   ]
  },
  {
   "cell_type": "markdown",
   "metadata": {},
   "source": [
    "## Building the model"
   ]
  },
  {
   "cell_type": "code",
   "execution_count": 7,
   "metadata": {},
   "outputs": [
    {
     "data": {
      "text/plain": [
       "RNN(\n",
       "  (embedding): Embedding(85, 256)\n",
       "  (rnn): LSTM(256, 512, batch_first=True)\n",
       "  (fc): Linear(in_features=512, out_features=85, bias=True)\n",
       ")"
      ]
     },
     "execution_count": 7,
     "metadata": {},
     "output_type": "execute_result"
    }
   ],
   "source": [
    "import torch.nn as nn\n",
    "\n",
    "\n",
    "class RNN(nn.Module):\n",
    "    def __init__(self, vocab_size, embed_size, rnn_hidden_size):\n",
    "        super().__init__()\n",
    "        self.embedding = nn.Embedding(vocab_size, embed_dim)\n",
    "        self.rnn_hidden_size = rnn_hidden_size\n",
    "        self.rnn = nn.LSTM(embed_dim, rnn_hidden_size, batch_first=True)\n",
    "        self.fc = nn.Linear(rnn_hidden_size, vocab_size)\n",
    "\n",
    "    def forward(self, x, hidden, cell):\n",
    "        out = self.embedding(x).unsqueeze(1)\n",
    "        out, (hidden, cell) = self.rnn(out, (hidden, cell))\n",
    "        out = self.fc(out).reshape(out.size(0), -1)\n",
    "\n",
    "        return out, hidden, cell\n",
    "\n",
    "    def init_hidden(self, batch_size):\n",
    "        hidden = torch.zeros(1, batch_size, self.rnn_hidden_size)\n",
    "        cell = torch.zeros(1, batch_size, self.rnn_hidden_size)\n",
    "        \n",
    "        return hidden.to(device), cell.to(device)\n",
    "    \n",
    "vocab_size = len(char_array)\n",
    "embed_dim = 256\n",
    "rnn_hidden_size = 512\n",
    "\n",
    "torch.manual_seed(1)\n",
    "model = RNN(vocab_size, embed_dim, rnn_hidden_size)\n",
    "model = model.to(device)\n",
    "model"
   ]
  },
  {
   "cell_type": "markdown",
   "metadata": {},
   "source": [
    "## Training the model"
   ]
  },
  {
   "cell_type": "code",
   "execution_count": 8,
   "metadata": {},
   "outputs": [
    {
     "name": "stdout",
     "output_type": "stream",
     "text": [
      "Epoch 0 loss; 4.4368\n",
      "Epoch 500 loss; 1.3707\n",
      "Epoch 1000 loss; 1.2536\n",
      "Epoch 1500 loss; 1.2927\n",
      "Epoch 2000 loss; 1.2025\n",
      "Epoch 2500 loss; 1.2074\n",
      "Epoch 3000 loss; 1.1859\n",
      "Epoch 3500 loss; 1.1644\n",
      "Epoch 4000 loss; 1.1805\n",
      "Epoch 4500 loss; 1.1672\n",
      "Epoch 5000 loss; 1.1427\n",
      "Epoch 5500 loss; 1.0837\n",
      "Epoch 6000 loss; 1.1890\n",
      "Epoch 6500 loss; 1.1577\n",
      "Epoch 7000 loss; 1.1731\n",
      "Epoch 7500 loss; 1.1391\n",
      "Epoch 8000 loss; 1.1634\n",
      "Epoch 8500 loss; 1.1191\n",
      "Epoch 9000 loss; 1.0949\n",
      "Epoch 9500 loss; 1.2118\n"
     ]
    }
   ],
   "source": [
    "loss_fn = nn.CrossEntropyLoss()\n",
    "optimizer = torch.optim.Adam(model.parameters(), lr=0.005)\n",
    "\n",
    "num_epochs = 10000\n",
    "\n",
    "torch.manual_seed(1)\n",
    "losses = []\n",
    "for epoch in range(num_epochs):\n",
    "    hidden, cell = model.init_hidden(batch_size)\n",
    "    \n",
    "    seq_batch, target_batch = next(iter(seq_dl))\n",
    "    \n",
    "    seq_batch = seq_batch.to(device)\n",
    "    target_batch = target_batch.to(device)\n",
    "    \n",
    "    optimizer.zero_grad()\n",
    "    loss = 0\n",
    "    \n",
    "    for c in range(seq_length):\n",
    "        pred, hidden, cell = model(seq_batch[:, c], hidden, cell)\n",
    "        loss += loss_fn(pred, target_batch[:, c])\n",
    "        \n",
    "    loss.backward()\n",
    "    optimizer.step()\n",
    "    \n",
    "    loss = loss.item() / seq_length\n",
    "    losses.append(loss)\n",
    "    \n",
    "    if epoch % 500 == 0:\n",
    "        print(f'Epoch {epoch} loss; {loss:.4f}')"
   ]
  },
  {
   "cell_type": "code",
   "execution_count": 10,
   "metadata": {},
   "outputs": [
    {
     "data": {
      "image/png": "[encoded data removed]",
      "text/plain": [
       "<Figure size 1000x500 with 1 Axes>"
      ]
     },
     "metadata": {},
     "output_type": "display_data"
    }
   ],
   "source": [
    "import matplotlib.pyplot as plt\n",
    "import os\n",
    "\n",
    "x = np.linspace(0, num_epochs, len(losses), endpoint=True)\n",
    "fig = plt.figure(figsize=(10, 5))\n",
    "ax = fig.add_subplot(111)\n",
    "ax.plot(x, losses, label='Loss')\n",
    "ax.set_xlabel('Epochs')\n",
    "ax.set_ylabel('Loss')\n",
    "ax.set_title('Training Loss')\n",
    "ax.legend(loc='best')\n",
    "plt.show()\n",
    "\n",
    "if not os.path.exists('assets'):\n",
    "    os.mkdir('assets')\n",
    "fig.savefig(os.path.join('assets', 'training_loss.png'))\n"
   ]
  },
  {
   "cell_type": "code",
   "execution_count": 11,
   "metadata": {},
   "outputs": [],
   "source": [
    "if not os.path.exists('models'):\n",
    "    os.mkdir('models')\n",
    "\n",
    "if not os.path.exists(os.path.join('models', 'rnn_model.pth')):    \n",
    "    torch.save(model.state_dict(), os.path.join('models', 'rnn_model.pth'))\n",
    "    \n",
    "model = RNN(vocab_size, embed_dim, rnn_hidden_size)\n",
    "model.load_state_dict(torch.load(os.path.join('models', 'rnn_model.pth')))\n",
    "model = model.to(device)"
   ]
  },
  {
   "cell_type": "markdown",
   "metadata": {},
   "source": [
    "## Evaluation"
   ]
  },
  {
   "cell_type": "code",
   "execution_count": 14,
   "metadata": {},
   "outputs": [
    {
     "name": "stdout",
     "output_type": "stream",
     "text": [
      "The island is thousand, either that it might previously twelve at one of\n",
      "the center of damp, sincilen, the lake was spare, the retreation on board the main. But the convicts would never a\n",
      "fever, a distance of time.\n",
      "\n",
      "Ayrton’s feccess, ready to makpy say, sneed,” said Pencroft, and Ayrton remained betwords to an hour of this man?”\n",
      "\n",
      "“Can have thrown will you have not made out?”\n",
      "\n",
      "Herbert might done.\n",
      "There the report of the balloon, advanced or a certain up trapped for unless himself in its left fan, and also \n"
     ]
    }
   ],
   "source": [
    "from torch.distributions.categorical import Categorical\n",
    "\n",
    "\n",
    "def sample(mode, starting_str, len_generated_text=500, scale_factor=1.0):\n",
    "    encoded_input = torch.tensor([char2int[s] for s in starting_str])\n",
    "    encoded_input = torch.reshape(encoded_input, (1, -1))\n",
    "\n",
    "    generated_str = starting_str\n",
    "\n",
    "    model.eval()\n",
    "    hidden, cell = mode.init_hidden(1)\n",
    "\n",
    "    hidden = hidden.to('cpu')\n",
    "    cell = cell.to('cpu')\n",
    "\n",
    "    for c in range(len(starting_str)-1):\n",
    "        _, hidden, cell = model(encoded_input[:, c].view(1), hidden, cell)\n",
    "\n",
    "    last_char = encoded_input[:, -1]\n",
    "\n",
    "    for i in range(len_generated_text):\n",
    "        logits, hidden, cell = model(last_char.view(1), hidden, cell)\n",
    "        logits = torch.squeeze(logits, 0)\n",
    "\n",
    "        scaled_logits = logits * scale_factor\n",
    "\n",
    "        m = Categorical(logits=logits)\n",
    "        last_char = m.sample()\n",
    "        generated_str += str(char_array[last_char])\n",
    "\n",
    "    return generated_str\n",
    "\n",
    "torch.manual_seed(1)\n",
    "model.to('cpu')\n",
    "print(sample(model, starting_str='The island'))"
   ]
  },
  {
   "cell_type": "code",
   "execution_count": null,
   "metadata": {},
   "outputs": [],
   "source": []
  }
 ],
 "metadata": {
  "kernelspec": {
   "display_name": "ml-pytorch-book-env",
   "language": "python",
   "name": "python3"
  },
  "language_info": {
   "codemirror_mode": {
    "name": "ipython",
    "version": 3
   },
   "file_extension": ".py",
   "mimetype": "text/x-python",
   "name": "python",
   "nbconvert_exporter": "python",
   "pygments_lexer": "ipython3",
   "version": "3.8.18"
  }
 },
 "nbformat": 4,
 "nbformat_minor": 2
}
